{
 "cells": [
  {
   "cell_type": "markdown",
   "id": "4dd9a9c6-d661-4be6-a070-6a113ccf9a79",
   "metadata": {},
   "source": [
    "# Quantum States"
   ]
  },
  {
   "cell_type": "markdown",
   "id": "a1b2ead9-28fd-4ce5-8416-075ab5ed133f",
   "metadata": {},
   "source": [
    "## SIMULE EL PRIMER SISTEMA CUÁNTICO DESCRITO EN LA SECCIÓN 4.1."
   ]
  },
  {
   "cell_type": "markdown",
   "id": "443d26f2-546e-41ad-8245-541a3d79da34",
   "metadata": {},
   "source": [
    "### 1. El sistema debe calcular la probabilidad de encontrarlo en una posición en particular."
   ]
  },
  {
   "cell_type": "code",
   "execution_count": 27,
   "id": "14ca5669-a251-401c-b222-6df3005ba723",
   "metadata": {},
   "outputs": [
    {
     "name": "stdout",
     "output_type": "stream",
     "text": [
      "[0.52631579]\n",
      "[0.21052632]\n",
      "[0.05263158]\n",
      "[0.21052632]\n"
     ]
    }
   ],
   "source": [
    "import numpy as np\n",
    "def quantumStates(vector, position):\n",
    "    probability = np.abs(vector[position]) ** 2 / np.linalg.norm(vector) ** 2\n",
    "    return probability\n",
    "def ejemplo(): #Ejemplo 4.1.1\n",
    "    ket = np.array([[-3-1j],[-2j], [1j], [2]])\n",
    "    for i in range (0, ket.shape[0]):\n",
    "        position = i\n",
    "        probability = quantumStates (ket, position)\n",
    "        print(probability)\n",
    "ejemplo()\n",
    "    "
   ]
  },
  {
   "cell_type": "markdown",
   "id": "b8814dc7-504d-463f-a556-78458458e00a",
   "metadata": {},
   "source": [
    "### 2. El sistema si se le da otro vector Ket debe buscar la probabilidad de transitar del primer vector al segundo."
   ]
  },
  {
   "cell_type": "code",
   "execution_count": 38,
   "id": "cfac6f02-b99d-4da6-97a3-69ab68edebe1",
   "metadata": {},
   "outputs": [
    {
     "name": "stdout",
     "output_type": "stream",
     "text": [
      "-1j\n"
     ]
    }
   ],
   "source": [
    "import numpy as np\n",
    "def normalize(vector):\n",
    "    norma = np.linalg.norm(vector)\n",
    "    normal = vector / norma\n",
    "    return normal\n",
    "def transit(vector1, vector2):\n",
    "    normal1 = normalize(vector1)\n",
    "    normal2 = normalize(vector2)\n",
    "    internal_product = np.vdot(normal2, normal1)\n",
    "    return internal_product\n",
    "def ejemplo(): #Ejemplo 4.1.7\n",
    "    vector1 = np.array([1, -1j])\n",
    "    vector2 = np.array([1j, 1])\n",
    "    t = transit (vector1, vector2)\n",
    "    print(np.round(t, 2))           \n",
    "ejemplo()"
   ]
  },
  {
   "cell_type": "markdown",
   "id": "48f593fa-7250-498f-8424-2e877524d430",
   "metadata": {},
   "source": [
    "## COMPLETE LOS RETOS DE PROGRAMACIÓN DEL CAPÍTULO 4."
   ]
  },
  {
   "cell_type": "markdown",
   "id": "a7456452-5cfe-44c0-9fa2-ab9b0f760479",
   "metadata": {},
   "source": [
    "### 1. Amplitud de transición. El sistema puede recibir dos vectores y calcular la probabilidad de transitar de el uno al otro después de hacer la observación"
   ]
  },
  {
   "cell_type": "code",
   "execution_count": 37,
   "id": "563df31a-c001-43dd-b964-f20a209530cf",
   "metadata": {},
   "outputs": [
    {
     "name": "stdout",
     "output_type": "stream",
     "text": [
      "1.0\n"
     ]
    }
   ],
   "source": [
    "import numpy as np\n",
    "def normalize(vector):\n",
    "    norma = np.linalg.norm(vector)\n",
    "    normal = vector / norma\n",
    "    return normal\n",
    "def transit(vector1, vector2):\n",
    "    normal1 = normalize(vector1)\n",
    "    normal2 = normalize(vector2)\n",
    "    internal_product = np.vdot(normal2, normal1)\n",
    "    return internal_product\n",
    "def ejemplo(): #Ejemplo 4.1.7\n",
    "    vector1 = np.array([1, -1j])\n",
    "    vector2 = np.array([1j, 1])\n",
    "    tr = transit (vector1, vector2)\n",
    "    t = np.linalg.norm(tr)**2\n",
    "    print(np.round(t,2))           \n",
    "ejemplo()"
   ]
  },
  {
   "cell_type": "markdown",
   "id": "4ba386d3-1d22-4fd6-a664-f101e62dc79b",
   "metadata": {},
   "source": [
    "### 2. Ahora con una matriz que describa un observable y un vector ket, el sistema revisa que la matriz sea hermitiana, y si lo es, calcula la media y la varianza del observable en el estado dado."
   ]
  },
  {
   "cell_type": "code",
   "execution_count": 62,
   "id": "29a0ce19-cad7-4602-8678-626735075f6b",
   "metadata": {},
   "outputs": [
    {
     "name": "stdout",
     "output_type": "stream",
     "text": [
      "True\n",
      "2.5\n",
      "0.25\n"
     ]
    }
   ],
   "source": [
    "def isHermitian(matrix): #Ejemplo 4.2.5\n",
    "    is_hermitian = np.allclose(matrix, matrix.conj().T)\n",
    "    return is_hermitian\n",
    "def average(observable, ket):\n",
    "    bra = np.dot(observable, ket.T)\n",
    "    a = np.vdot(bra, ket)\n",
    "    return a.real\n",
    "def variance(observable, ket, average):\n",
    "    n = len(observable[0])\n",
    "    step1 = observable - average * np.eye(n)\n",
    "    step2 = np.dot(step1, step1)\n",
    "    step3 = np.dot(step2, ket.T) \n",
    "    step4 = np.vdot(ket, step3)\n",
    "    return step4.real\n",
    "def ejemplo():\n",
    "    matrix = np.array([[1, -1j], [1j, 2]])\n",
    "    ket = np.array([np.sqrt(2)/2, (np.sqrt(2)/2)*1j])\n",
    "    u = average(matrix, ket)\n",
    "    v = variance(matrix, ket, u)\n",
    "    print(isHermitian(matrix))\n",
    "    print(np.round(u, 2))\n",
    "    print(np.round(v, 2))\n",
    "ejemplo()\n",
    "    "
   ]
  },
  {
   "cell_type": "markdown",
   "id": "b2d9a1a9-692d-415f-afe8-57f520e37052",
   "metadata": {},
   "source": [
    "### 3. El sistema calcula los valores propios del observable y la probabilidad de que el sistema transite a alguno de los vectores propios después de la observación.\n",
    "\n"
   ]
  },
  {
   "cell_type": "code",
   "execution_count": 83,
   "id": "441daa74-d9fd-4a68-ba06-31296a94d0a1",
   "metadata": {},
   "outputs": [
    {
     "name": "stdout",
     "output_type": "stream",
     "text": [
      "Eigenvalues: [-1.41421356+0.j  1.41421356+0.j]\n",
      "\n",
      "Eigenvectors: [[ 0.92387953+0.j         -0.        -0.38268343j]\n",
      " [-0.        -0.38268343j  0.92387953+0.j        ]]\n",
      "probabilities that our state vector will fall into one of the two eigenvectors: 0.5 0.5\n"
     ]
    }
   ],
   "source": [
    "import numpy as np\n",
    "def normalize(vector):\n",
    "    norma = np.linalg.norm(vector)\n",
    "    normal = vector / norma\n",
    "    return normal\n",
    "def eigen(matriz):\n",
    "    eigenvalues, eigenvectors = np.linalg.eig(observable)\n",
    "    print(\"Eigenvalues:\", eigenvalues)\n",
    "    print(\"\\nEigenvectors:\", eigenvectors)\n",
    "    return eigenvectors\n",
    "    \n",
    "def ejemplo(): #Ejemplo 4.2.1 - 4.3.2\n",
    "    observable = np.array([[-1, -1j], [1j, 1]])\n",
    "    ket = ((np.array([1/2, 1/2]))).T\n",
    "    ket_normal = normalize(ket)\n",
    "    eigenvectors = eigen(observable)\n",
    "    eigenvector1 = eigenvectors[0]\n",
    "    eigenvector2 = eigenvectors[1]\n",
    "    p1 = np.round(np.linalg.norm(np.vdot(ket_normal, eigenvector1))**2, 2)\n",
    "    p2 = np.round(np.linalg.norm(np.vdot(ket_normal, eigenvector2))**2, 2)\n",
    "    print(\"probabilities that our state vector will fall into one of the two eigenvectors:\", p1, p2)\n",
    "ejemplo()\n",
    "\n",
    "\n"
   ]
  },
  {
   "cell_type": "markdown",
   "id": "da7a1ec4-8caf-408b-9bf0-b6ee655b319c",
   "metadata": {},
   "source": [
    "### 4. Se considera la dinámica del sistema. Ahora con una serie de matrices Un el sistema calcula el estado final a partir de un estado inicial."
   ]
  },
  {
   "cell_type": "code",
   "execution_count": 82,
   "id": "f0c11a95-c293-477d-b55f-3b4f59f0f42c",
   "metadata": {},
   "outputs": [
    {
     "name": "stdout",
     "output_type": "stream",
     "text": [
      "Estado final: [0.+0.70710678j 0.-0.70710678j]\n"
     ]
    }
   ],
   "source": [
    "import numpy as np\n",
    "def final_state(matrix, initial_state):\n",
    "    final = initial_state\n",
    "    for i in range(len(matrix)):\n",
    "        final = np.dot(matrix[i], final)\n",
    "    return final\n",
    "def ejemplo():\n",
    "    matrix=[]\n",
    "    matrix.append(np.array([[1, 0], [0, 1]]))\n",
    "    matrix.append(np.array([[0, -1j], [1j, 0]]))\n",
    "    matrix.append(np.array([[1/np.sqrt(2), 1/np.sqrt(2)], [1/np.sqrt(2), -1/np.sqrt(2)]])) \n",
    "    f = final_state(matrix, np.array([1,0]))\n",
    "    print(\"Estado final:\", f)\n",
    "ejemplo()"
   ]
  },
  {
   "cell_type": "markdown",
   "id": "f3da05f8-af87-492a-81dc-8daab31f4980",
   "metadata": {},
   "source": [
    "## EJEMPLOS"
   ]
  },
  {
   "cell_type": "markdown",
   "id": "866f764a-fb62-45f5-b60b-e38203c89852",
   "metadata": {},
   "source": [
    "### Exercise 4.3.1"
   ]
  },
  {
   "cell_type": "code",
   "execution_count": 87,
   "id": "dd7a9c34-af7b-47cf-8cef-fe799ab58ee9",
   "metadata": {},
   "outputs": [
    {
     "name": "stdout",
     "output_type": "stream",
     "text": [
      "Eigenvalues:\n",
      "[ 0.70710678 -0.70710678]\n",
      "\n",
      "Eigenvectors:\n",
      "[[ 0.70710678 -0.70710678]\n",
      " [ 0.70710678  0.70710678]]\n",
      "\n",
      "Probabilidades de transición por cada vector propio:\n",
      "Probabilidad de transición al vector propio 1: 0.5\n",
      "Probabilidad de transición al vector propio 2: 0.5\n",
      "\n",
      "Probability_distribution 0.0\n"
     ]
    }
   ],
   "source": [
    "import numpy as np\n",
    "Sx = (1/np.sqrt(2)) * np.array([[0, 1], [1, 0]])\n",
    "eigenvalues, eigenvectors = np.linalg.eig(Sx)\n",
    "print(\"Eigenvalues:\")\n",
    "print(eigenvalues)\n",
    "print(\"\\nEigenvectors:\")\n",
    "print(eigenvectors)\n",
    "initial_state = np.array([1, 0]) #Spin up\n",
    "transition_probabilities = []\n",
    "probability_distribution = 0\n",
    "for e in eigenvectors.T:\n",
    "    transition_probability = np.linalg.norm(np.vdot(e, initial_state))**2\n",
    "    transition_probabilities.append(np.round(transition_probability, 2))\n",
    "print(\"\\nProbabilidades de transición por cada vector propio:\")\n",
    "for i, probability in enumerate(transition_probabilities):\n",
    "    print(f\"Probabilidad de transición al vector propio {i+1}: {probability}\")\n",
    "    probability_distribution += probability * eigenvalues[i]\n",
    "print(\"\\nProbability_distribution\", probability_distribution)"
   ]
  },
  {
   "cell_type": "markdown",
   "id": "f0a1ea06-0bae-4ca8-9fba-db109f1f64bb",
   "metadata": {},
   "source": [
    "### Exercise 4.3.2"
   ]
  },
  {
   "cell_type": "code",
   "execution_count": 98,
   "id": "dc09bb27-9696-4c5c-bf8d-cc0303147003",
   "metadata": {},
   "outputs": [
    {
     "data": {
      "image/png": "[encoded data removed]",
      "text/plain": [
       "<Figure size 640x480 with 1 Axes>"
      ]
     },
     "metadata": {},
     "output_type": "display_data"
    }
   ],
   "source": [
    "import numpy as np\n",
    "import matplotlib.pyplot as plt\n",
    "H = (1/np.sqrt(2)) * np.array([[0, 1], [1, 0]])\n",
    "eigenvalues, eigenvectors = np.linalg.eig(H)\n",
    "initial_state = np.array([1, 0]) #Spin up\n",
    "transition_probabilities = []\n",
    "for e in eigenvectors.T:\n",
    "    transition_probability = np.linalg.norm(np.vdot(e, initial_state))**2\n",
    "    transition_probabilities.append(transition_probability)\n",
    "\n",
    "probability_distribution = np.sum(transition_probabilities * eigenvalues)\n",
    "indices = [\"Eigenvector1\", \"Eigenvector2\"]\n",
    "plt.bar(indices, transition_probabilities)\n",
    "plt.xlabel(\"Eigenvalues\")\n",
    "plt.ylabel(\"Probability\")\n",
    "plt.title(\"Probability Distribution of Eigenvalues\")\n",
    "plt.show()\n"
   ]
  },
  {
   "cell_type": "markdown",
   "id": "8f5cd019-6b6c-4515-a4ee-ccf51af00d01",
   "metadata": {},
   "source": [
    "### Exercise 4.4.1"
   ]
  },
  {
   "cell_type": "code",
   "execution_count": 97,
   "id": "552517d1-0003-45c6-a352-69a3c72d0cf2",
   "metadata": {},
   "outputs": [
    {
     "name": "stdout",
     "output_type": "stream",
     "text": [
      "U1 True\n",
      "U2 True\n",
      "U1*U2 True\n"
     ]
    }
   ],
   "source": [
    "import numpy as np\n",
    "def isUnitary(vector):\n",
    "    is_unitary = np.allclose(np.dot(vector, vector.conj().T), np.eye(2))\n",
    "    return is_unitary\n",
    "def ejemplo():\n",
    "    u1 = np.array([[0, 1], [1, 0]])\n",
    "    u2 = np.array([[np.sqrt(2)/2, np.sqrt(2)/2], [np.sqrt(2)/2, -np.sqrt(2)/2]])\n",
    "    mult = np.dot(u1, u2)\n",
    "    print(\"U1:\", isUnitary(u1))\n",
    "    print(\"U2:\", isUnitary(u2))\n",
    "    print(\"U1*U2:\", isUnitary(mult))\n",
    "ejemplo()\n"
   ]
  },
  {
   "cell_type": "markdown",
   "id": "1793b088-a0cf-444f-9590-f48cb108a9ad",
   "metadata": {},
   "source": [
    "### Exercise 4.4.2"
   ]
  },
  {
   "cell_type": "code",
   "execution_count": 104,
   "id": "3e3b0a6b-8b90-46a2-9754-005090cf9927",
   "metadata": {},
   "outputs": [
    {
     "name": "stdout",
     "output_type": "stream",
     "text": [
      "El estado del sistema despues de 3 tiempos es:  [ 0.        +0.j         -0.70710678+0.70710678j  0.        +0.j\n",
      "  0.        +0.j        ]\n",
      "Probabilidad de encontrar la bola cuántica en el punto 3: 0.0\n"
     ]
    }
   ],
   "source": [
    "import numpy as np\n",
    "mapa = np.array([\n",
    "    [0, 1/np.sqrt(2), 1/np.sqrt(2), 0],\n",
    "    [1j/np.sqrt(2), 0, 0, 1/np.sqrt(2)],\n",
    "    [1/np.sqrt(2), 0, 0, 1j/np.sqrt(2)],\n",
    "    [0, 1/np.sqrt(2), -1/np.sqrt(2), 0]\n",
    "])\n",
    "initial_state= np.array([1, 0, 0, 0])\n",
    "initial_state = np.linalg.matrix_power(mapa, 3) @initial_state\n",
    "probability_ball = np.abs(initial_state[2])**2\n",
    "print(\"El estado del sistema despues de 3 tiempos es: \", initial_state)\n",
    "print(\"Probabilidad de encontrar la bola cuántica en el punto 3:\", probability_ball)"
   ]
  },
  {
   "cell_type": "code",
   "execution_count": null,
   "id": "c474a22c-f9d9-4b0b-b903-6360c1c3d824",
   "metadata": {},
   "outputs": [],
   "source": []
  }
 ],
 "metadata": {
  "kernelspec": {
   "display_name": "Python 3 (ipykernel)",
   "language": "python",
   "name": "python3"
  },
  "language_info": {
   "codemirror_mode": {
    "name": "ipython",
    "version": 3
   },
   "file_extension": ".py",
   "mimetype": "text/x-python",
   "name": "python",
   "nbconvert_exporter": "python",
   "pygments_lexer": "ipython3",
   "version": "3.12.0"
  }
 },
 "nbformat": 4,
 "nbformat_minor": 5
}
